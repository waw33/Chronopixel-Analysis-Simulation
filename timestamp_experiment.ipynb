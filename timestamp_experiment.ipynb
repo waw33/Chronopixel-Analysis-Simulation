{
 "cells": [
  {
   "cell_type": "code",
   "execution_count": 18,
   "metadata": {
    "collapsed": false
   },
   "outputs": [],
   "source": [
    "import scipy as sc\n",
    "import math as m\n",
    "import matplotlib as mp\n",
    "from matplotlib import pyplot as pl\n",
    "import datetime as d\n",
    "import numpy as np\n",
    "from numpy import random as r"
   ]
  },
  {
   "cell_type": "code",
   "execution_count": 13,
   "metadata": {
    "collapsed": false
   },
   "outputs": [
    {
     "name": "stdout",
     "output_type": "stream",
     "text": [
      "2018-06-07 13:46:02.557903\n"
     ]
    }
   ],
   "source": [
    "run_start = d.datetime.utcnow(); #Use this if this notebook initiates the data collection\n",
    "print(run_start);\n",
    "#run_start = 'ex' Use if you wish to manually input the run start"
   ]
  },
  {
   "cell_type": "code",
   "execution_count": 14,
   "metadata": {
    "collapsed": true
   },
   "outputs": [],
   "source": [
    "thres_volt='10 mV';\n",
    "comment='Fill with any comments';\n",
    "temp='ex';\n",
    "freq='50MHz';                    #Should be changed if a different clock speed is used"
   ]
  },
  {
   "cell_type": "code",
   "execution_count": 39,
   "metadata": {
    "collapsed": false
   },
   "outputs": [
    {
     "name": "stdout",
     "output_type": "stream",
     "text": [
      "[[[ 0.  0.  1.]\n",
      "  [ 1.  1.  0.]\n",
      "  [ 1.  0.  1.]\n",
      "  ..., \n",
      "  [ 1.  0.  0.]\n",
      "  [ 1.  1.  0.]\n",
      "  [ 0.  1.  0.]]\n",
      "\n",
      " [[ 0.  0.  0.]\n",
      "  [ 0.  0.  0.]\n",
      "  [ 0.  1.  1.]\n",
      "  ..., \n",
      "  [ 0.  0.  1.]\n",
      "  [ 1.  0.  1.]\n",
      "  [ 1.  0.  1.]]\n",
      "\n",
      " [[ 0.  0.  1.]\n",
      "  [ 1.  1.  1.]\n",
      "  [ 1.  1.  0.]\n",
      "  ..., \n",
      "  [ 0.  0.  1.]\n",
      "  [ 0.  0.  0.]\n",
      "  [ 0.  1.  1.]]\n",
      "\n",
      " ..., \n",
      " [[ 1.  0.  0.]\n",
      "  [ 0.  0.  0.]\n",
      "  [ 1.  0.  0.]\n",
      "  ..., \n",
      "  [ 1.  1.  0.]\n",
      "  [ 1.  0.  0.]\n",
      "  [ 0.  1.  0.]]\n",
      "\n",
      " [[ 1.  0.  1.]\n",
      "  [ 0.  1.  1.]\n",
      "  [ 0.  0.  0.]\n",
      "  ..., \n",
      "  [ 0.  0.  1.]\n",
      "  [ 1.  0.  1.]\n",
      "  [ 0.  0.  0.]]\n",
      "\n",
      " [[ 1.  0.  0.]\n",
      "  [ 0.  1.  1.]\n",
      "  [ 1.  1.  0.]\n",
      "  ..., \n",
      "  [ 1.  0.  0.]\n",
      "  [ 1.  1.  0.]\n",
      "  [ 0.  0.  1.]]]\n"
     ]
    }
   ],
   "source": [
    "data=r.randint(2, size=(12285,400));\n",
    "runs=int(len(data[:,0])/4095);\n",
    "test_data= np.empty([4095, 400, runs]);\n",
    "for n in range(runs):\n",
    "    for m in range((n*4095),((n+1)*4095)):\n",
    "        for i in range(400):\n",
    "            test_data[(m-(n*4095))][i][n]=data[m][i];\n",
    "print(test_data);"
   ]
  },
  {
   "cell_type": "code",
   "execution_count": 24,
   "metadata": {
    "collapsed": false
   },
   "outputs": [
    {
     "name": "stdout",
     "output_type": "stream",
     "text": [
      "chronopixel_run_2018-06-07 13:46:02.557903\n",
      "<class 'numpy.ndarray'>\n"
     ]
    }
   ],
   "source": [
    "#test_data = np.empty([4095,400,4]);\n",
    "#test_data = r.randint(2, size=(4095,400,4))\n",
    "#run_store = np.savez('chronopixel_run_%s' %run_start, test_data); \n",
    "#time=[n for n in range(4095)];\n",
    "#print('chronopixel_run_%s' %run_start);"
   ]
  },
  {
   "cell_type": "code",
   "execution_count": 16,
   "metadata": {
    "collapsed": false
   },
   "outputs": [],
   "source": [
    "hits=np.empty([len(test_data[:,0,0]),len(test_data[0,0,:])]);\n",
    "for n in range(len(test_data[0,0,:])):\n",
    "    for m in range(len(test_data[:,0,0])):\n",
    "        hits[m][n]=sum(test_data[m,:,n]);\n",
    "hits_store=run_store = np.savez_compressed('chronopixel_hits_%s' %run_start, hits); \n",
    "#I am getting an error when saving the files. It says the file is not UTF-8 encoded and so saving has been disabled."
   ]
  },
  {
   "cell_type": "code",
   "execution_count": 107,
   "metadata": {
    "collapsed": false
   },
   "outputs": [
    {
     "data": {
      "image/png": "[encoded data removed]",
      "text/plain": [
       "<matplotlib.figure.Figure at 0x116c538d0>"
      ]
     },
     "metadata": {},
     "output_type": "display_data"
    }
   ],
   "source": [
    "pl.plot(time,hits);\n",
    "pl.show();"
   ]
  },
  {
   "cell_type": "code",
   "execution_count": 109,
   "metadata": {
    "collapsed": false
   },
   "outputs": [
    {
     "name": "stdout",
     "output_type": "stream",
     "text": [
      "[ 200.002442    200.37191697  199.86275946  199.75506716]\n"
     ]
    }
   ],
   "source": [
    "avr_hits=np.empty(len(hits[0]))\n",
    "for n in range(len(hits[0])):\n",
    "    avr_hits[n]=sum(hits[:,n])/len(hits[:,n])\n",
    "print(avr_hits);"
   ]
  },
  {
   "cell_type": "code",
   "execution_count": null,
   "metadata": {
    "collapsed": true
   },
   "outputs": [],
   "source": []
  }
 ],
 "metadata": {
  "kernelspec": {
   "display_name": "Python 3",
   "language": "python",
   "name": "python3"
  },
  "language_info": {
   "codemirror_mode": {
    "name": "ipython",
    "version": 3
   },
   "file_extension": ".py",
   "mimetype": "text/x-python",
   "name": "python",
   "nbconvert_exporter": "python",
   "pygments_lexer": "ipython3",
   "version": "3.6.0"
  }
 },
 "nbformat": 4,
 "nbformat_minor": 2
}
